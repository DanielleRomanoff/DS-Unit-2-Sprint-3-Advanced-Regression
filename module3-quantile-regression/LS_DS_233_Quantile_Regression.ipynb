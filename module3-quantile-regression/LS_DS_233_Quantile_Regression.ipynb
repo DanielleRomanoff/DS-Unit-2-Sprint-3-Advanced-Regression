{
 "cells": [
  {
   "cell_type": "markdown",
   "metadata": {
    "colab_type": "text",
    "id": "SV7gaADiicnV"
   },
   "source": [
    "# Lambda School Data Science - Quantile Regression\n",
    "\n",
    "Regressing towards the median - or any quantile - as a way to mitigate outliers and control risk."
   ]
  },
  {
   "cell_type": "markdown",
   "metadata": {
    "colab_type": "text",
    "id": "6klMj4q3iqMh"
   },
   "source": [
    "## Lecture\n",
    "\n",
    "Let's look at data that has a bit of a skew to it:\n",
    "\n",
    "http://archive.ics.uci.edu/ml/datasets/Beijing+PM2.5+Data"
   ]
  },
  {
   "cell_type": "code",
   "execution_count": 128,
   "metadata": {
    "colab": {},
    "colab_type": "code",
    "id": "yw1AD_z9O0xL"
   },
   "outputs": [],
   "source": [
    "import pandas as pd\n",
    "df = pd.read_csv('http://archive.ics.uci.edu/ml/machine-learning-databases/'\n",
    "                 '00381/PRSA_data_2010.1.1-2014.12.31.csv')"
   ]
  },
  {
   "cell_type": "code",
   "execution_count": 129,
   "metadata": {
    "colab": {
     "base_uri": "https://localhost:8080/",
     "height": 206
    },
    "colab_type": "code",
    "id": "RTlH1lJ8PDv5",
    "outputId": "e073db49-81bd-4ebd-f43b-69c92aea8467"
   },
   "outputs": [
    {
     "data": {
      "text/html": [
       "<div>\n",
       "<style scoped>\n",
       "    .dataframe tbody tr th:only-of-type {\n",
       "        vertical-align: middle;\n",
       "    }\n",
       "\n",
       "    .dataframe tbody tr th {\n",
       "        vertical-align: top;\n",
       "    }\n",
       "\n",
       "    .dataframe thead th {\n",
       "        text-align: right;\n",
       "    }\n",
       "</style>\n",
       "<table border=\"1\" class=\"dataframe\">\n",
       "  <thead>\n",
       "    <tr style=\"text-align: right;\">\n",
       "      <th></th>\n",
       "      <th>No</th>\n",
       "      <th>year</th>\n",
       "      <th>month</th>\n",
       "      <th>day</th>\n",
       "      <th>hour</th>\n",
       "      <th>pm2.5</th>\n",
       "      <th>DEWP</th>\n",
       "      <th>TEMP</th>\n",
       "      <th>PRES</th>\n",
       "      <th>cbwd</th>\n",
       "      <th>Iws</th>\n",
       "      <th>Is</th>\n",
       "      <th>Ir</th>\n",
       "    </tr>\n",
       "  </thead>\n",
       "  <tbody>\n",
       "    <tr>\n",
       "      <th>0</th>\n",
       "      <td>1</td>\n",
       "      <td>2010</td>\n",
       "      <td>1</td>\n",
       "      <td>1</td>\n",
       "      <td>0</td>\n",
       "      <td>NaN</td>\n",
       "      <td>-21</td>\n",
       "      <td>-11.0</td>\n",
       "      <td>1021.0</td>\n",
       "      <td>NW</td>\n",
       "      <td>1.79</td>\n",
       "      <td>0</td>\n",
       "      <td>0</td>\n",
       "    </tr>\n",
       "    <tr>\n",
       "      <th>1</th>\n",
       "      <td>2</td>\n",
       "      <td>2010</td>\n",
       "      <td>1</td>\n",
       "      <td>1</td>\n",
       "      <td>1</td>\n",
       "      <td>NaN</td>\n",
       "      <td>-21</td>\n",
       "      <td>-12.0</td>\n",
       "      <td>1020.0</td>\n",
       "      <td>NW</td>\n",
       "      <td>4.92</td>\n",
       "      <td>0</td>\n",
       "      <td>0</td>\n",
       "    </tr>\n",
       "    <tr>\n",
       "      <th>2</th>\n",
       "      <td>3</td>\n",
       "      <td>2010</td>\n",
       "      <td>1</td>\n",
       "      <td>1</td>\n",
       "      <td>2</td>\n",
       "      <td>NaN</td>\n",
       "      <td>-21</td>\n",
       "      <td>-11.0</td>\n",
       "      <td>1019.0</td>\n",
       "      <td>NW</td>\n",
       "      <td>6.71</td>\n",
       "      <td>0</td>\n",
       "      <td>0</td>\n",
       "    </tr>\n",
       "    <tr>\n",
       "      <th>3</th>\n",
       "      <td>4</td>\n",
       "      <td>2010</td>\n",
       "      <td>1</td>\n",
       "      <td>1</td>\n",
       "      <td>3</td>\n",
       "      <td>NaN</td>\n",
       "      <td>-21</td>\n",
       "      <td>-14.0</td>\n",
       "      <td>1019.0</td>\n",
       "      <td>NW</td>\n",
       "      <td>9.84</td>\n",
       "      <td>0</td>\n",
       "      <td>0</td>\n",
       "    </tr>\n",
       "    <tr>\n",
       "      <th>4</th>\n",
       "      <td>5</td>\n",
       "      <td>2010</td>\n",
       "      <td>1</td>\n",
       "      <td>1</td>\n",
       "      <td>4</td>\n",
       "      <td>NaN</td>\n",
       "      <td>-20</td>\n",
       "      <td>-12.0</td>\n",
       "      <td>1018.0</td>\n",
       "      <td>NW</td>\n",
       "      <td>12.97</td>\n",
       "      <td>0</td>\n",
       "      <td>0</td>\n",
       "    </tr>\n",
       "  </tbody>\n",
       "</table>\n",
       "</div>"
      ],
      "text/plain": [
       "   No  year  month  day  hour  pm2.5  DEWP  TEMP    PRES cbwd    Iws  Is  Ir\n",
       "0   1  2010      1    1     0    NaN   -21 -11.0  1021.0   NW   1.79   0   0\n",
       "1   2  2010      1    1     1    NaN   -21 -12.0  1020.0   NW   4.92   0   0\n",
       "2   3  2010      1    1     2    NaN   -21 -11.0  1019.0   NW   6.71   0   0\n",
       "3   4  2010      1    1     3    NaN   -21 -14.0  1019.0   NW   9.84   0   0\n",
       "4   5  2010      1    1     4    NaN   -20 -12.0  1018.0   NW  12.97   0   0"
      ]
     },
     "execution_count": 129,
     "metadata": {},
     "output_type": "execute_result"
    }
   ],
   "source": [
    "df.head()"
   ]
  },
  {
   "cell_type": "code",
   "execution_count": 130,
   "metadata": {
    "colab": {
     "base_uri": "https://localhost:8080/",
     "height": 320
    },
    "colab_type": "code",
    "id": "m-yC9OSPPFo8",
    "outputId": "d5602fe7-31ad-458e-d466-212c99e51cf4"
   },
   "outputs": [
    {
     "data": {
      "text/html": [
       "<div>\n",
       "<style scoped>\n",
       "    .dataframe tbody tr th:only-of-type {\n",
       "        vertical-align: middle;\n",
       "    }\n",
       "\n",
       "    .dataframe tbody tr th {\n",
       "        vertical-align: top;\n",
       "    }\n",
       "\n",
       "    .dataframe thead th {\n",
       "        text-align: right;\n",
       "    }\n",
       "</style>\n",
       "<table border=\"1\" class=\"dataframe\">\n",
       "  <thead>\n",
       "    <tr style=\"text-align: right;\">\n",
       "      <th></th>\n",
       "      <th>No</th>\n",
       "      <th>year</th>\n",
       "      <th>month</th>\n",
       "      <th>day</th>\n",
       "      <th>hour</th>\n",
       "      <th>pm2.5</th>\n",
       "      <th>DEWP</th>\n",
       "      <th>TEMP</th>\n",
       "      <th>PRES</th>\n",
       "      <th>Iws</th>\n",
       "      <th>Is</th>\n",
       "      <th>Ir</th>\n",
       "    </tr>\n",
       "  </thead>\n",
       "  <tbody>\n",
       "    <tr>\n",
       "      <th>count</th>\n",
       "      <td>43824.000000</td>\n",
       "      <td>43824.000000</td>\n",
       "      <td>43824.000000</td>\n",
       "      <td>43824.000000</td>\n",
       "      <td>43824.000000</td>\n",
       "      <td>41757.000000</td>\n",
       "      <td>43824.000000</td>\n",
       "      <td>43824.000000</td>\n",
       "      <td>43824.000000</td>\n",
       "      <td>43824.000000</td>\n",
       "      <td>43824.000000</td>\n",
       "      <td>43824.000000</td>\n",
       "    </tr>\n",
       "    <tr>\n",
       "      <th>mean</th>\n",
       "      <td>21912.500000</td>\n",
       "      <td>2012.000000</td>\n",
       "      <td>6.523549</td>\n",
       "      <td>15.727820</td>\n",
       "      <td>11.500000</td>\n",
       "      <td>98.613215</td>\n",
       "      <td>1.817246</td>\n",
       "      <td>12.448521</td>\n",
       "      <td>1016.447654</td>\n",
       "      <td>23.889140</td>\n",
       "      <td>0.052734</td>\n",
       "      <td>0.194916</td>\n",
       "    </tr>\n",
       "    <tr>\n",
       "      <th>std</th>\n",
       "      <td>12651.043435</td>\n",
       "      <td>1.413842</td>\n",
       "      <td>3.448572</td>\n",
       "      <td>8.799425</td>\n",
       "      <td>6.922266</td>\n",
       "      <td>92.050387</td>\n",
       "      <td>14.433440</td>\n",
       "      <td>12.198613</td>\n",
       "      <td>10.268698</td>\n",
       "      <td>50.010635</td>\n",
       "      <td>0.760375</td>\n",
       "      <td>1.415867</td>\n",
       "    </tr>\n",
       "    <tr>\n",
       "      <th>min</th>\n",
       "      <td>1.000000</td>\n",
       "      <td>2010.000000</td>\n",
       "      <td>1.000000</td>\n",
       "      <td>1.000000</td>\n",
       "      <td>0.000000</td>\n",
       "      <td>0.000000</td>\n",
       "      <td>-40.000000</td>\n",
       "      <td>-19.000000</td>\n",
       "      <td>991.000000</td>\n",
       "      <td>0.450000</td>\n",
       "      <td>0.000000</td>\n",
       "      <td>0.000000</td>\n",
       "    </tr>\n",
       "    <tr>\n",
       "      <th>25%</th>\n",
       "      <td>10956.750000</td>\n",
       "      <td>2011.000000</td>\n",
       "      <td>4.000000</td>\n",
       "      <td>8.000000</td>\n",
       "      <td>5.750000</td>\n",
       "      <td>29.000000</td>\n",
       "      <td>-10.000000</td>\n",
       "      <td>2.000000</td>\n",
       "      <td>1008.000000</td>\n",
       "      <td>1.790000</td>\n",
       "      <td>0.000000</td>\n",
       "      <td>0.000000</td>\n",
       "    </tr>\n",
       "    <tr>\n",
       "      <th>50%</th>\n",
       "      <td>21912.500000</td>\n",
       "      <td>2012.000000</td>\n",
       "      <td>7.000000</td>\n",
       "      <td>16.000000</td>\n",
       "      <td>11.500000</td>\n",
       "      <td>72.000000</td>\n",
       "      <td>2.000000</td>\n",
       "      <td>14.000000</td>\n",
       "      <td>1016.000000</td>\n",
       "      <td>5.370000</td>\n",
       "      <td>0.000000</td>\n",
       "      <td>0.000000</td>\n",
       "    </tr>\n",
       "    <tr>\n",
       "      <th>75%</th>\n",
       "      <td>32868.250000</td>\n",
       "      <td>2013.000000</td>\n",
       "      <td>10.000000</td>\n",
       "      <td>23.000000</td>\n",
       "      <td>17.250000</td>\n",
       "      <td>137.000000</td>\n",
       "      <td>15.000000</td>\n",
       "      <td>23.000000</td>\n",
       "      <td>1025.000000</td>\n",
       "      <td>21.910000</td>\n",
       "      <td>0.000000</td>\n",
       "      <td>0.000000</td>\n",
       "    </tr>\n",
       "    <tr>\n",
       "      <th>max</th>\n",
       "      <td>43824.000000</td>\n",
       "      <td>2014.000000</td>\n",
       "      <td>12.000000</td>\n",
       "      <td>31.000000</td>\n",
       "      <td>23.000000</td>\n",
       "      <td>994.000000</td>\n",
       "      <td>28.000000</td>\n",
       "      <td>42.000000</td>\n",
       "      <td>1046.000000</td>\n",
       "      <td>585.600000</td>\n",
       "      <td>27.000000</td>\n",
       "      <td>36.000000</td>\n",
       "    </tr>\n",
       "  </tbody>\n",
       "</table>\n",
       "</div>"
      ],
      "text/plain": [
       "                 No          year         month           day          hour  \\\n",
       "count  43824.000000  43824.000000  43824.000000  43824.000000  43824.000000   \n",
       "mean   21912.500000   2012.000000      6.523549     15.727820     11.500000   \n",
       "std    12651.043435      1.413842      3.448572      8.799425      6.922266   \n",
       "min        1.000000   2010.000000      1.000000      1.000000      0.000000   \n",
       "25%    10956.750000   2011.000000      4.000000      8.000000      5.750000   \n",
       "50%    21912.500000   2012.000000      7.000000     16.000000     11.500000   \n",
       "75%    32868.250000   2013.000000     10.000000     23.000000     17.250000   \n",
       "max    43824.000000   2014.000000     12.000000     31.000000     23.000000   \n",
       "\n",
       "              pm2.5          DEWP          TEMP          PRES           Iws  \\\n",
       "count  41757.000000  43824.000000  43824.000000  43824.000000  43824.000000   \n",
       "mean      98.613215      1.817246     12.448521   1016.447654     23.889140   \n",
       "std       92.050387     14.433440     12.198613     10.268698     50.010635   \n",
       "min        0.000000    -40.000000    -19.000000    991.000000      0.450000   \n",
       "25%       29.000000    -10.000000      2.000000   1008.000000      1.790000   \n",
       "50%       72.000000      2.000000     14.000000   1016.000000      5.370000   \n",
       "75%      137.000000     15.000000     23.000000   1025.000000     21.910000   \n",
       "max      994.000000     28.000000     42.000000   1046.000000    585.600000   \n",
       "\n",
       "                 Is            Ir  \n",
       "count  43824.000000  43824.000000  \n",
       "mean       0.052734      0.194916  \n",
       "std        0.760375      1.415867  \n",
       "min        0.000000      0.000000  \n",
       "25%        0.000000      0.000000  \n",
       "50%        0.000000      0.000000  \n",
       "75%        0.000000      0.000000  \n",
       "max       27.000000     36.000000  "
      ]
     },
     "execution_count": 130,
     "metadata": {},
     "output_type": "execute_result"
    }
   ],
   "source": [
    "df.describe()"
   ]
  },
  {
   "cell_type": "code",
   "execution_count": 131,
   "metadata": {
    "colab": {
     "base_uri": "https://localhost:8080/",
     "height": 347
    },
    "colab_type": "code",
    "id": "hfV3WisFP_O6",
    "outputId": "a9809666-6c33-4778-fe1c-f3030f89d431"
   },
   "outputs": [
    {
     "data": {
      "image/png": "[encoded data removed]",
      "text/plain": [
       "<Figure size 432x288 with 1 Axes>"
      ]
     },
     "metadata": {},
     "output_type": "display_data"
    }
   ],
   "source": [
    "df['pm2.5'].plot.hist();"
   ]
  },
  {
   "cell_type": "code",
   "execution_count": 132,
   "metadata": {
    "colab": {
     "base_uri": "https://localhost:8080/",
     "height": 34
    },
    "colab_type": "code",
    "id": "OgbMTAHzQJB8",
    "outputId": "15e18384-ede7-4ccd-8961-280b35f66f85"
   },
   "outputs": [
    {
     "data": {
      "text/plain": [
       "0.25900063996606204"
      ]
     },
     "execution_count": 132,
     "metadata": {},
     "output_type": "execute_result"
    }
   ],
   "source": [
    "# How does linear regression handle it?\n",
    "from sklearn.linear_model import LinearRegression\n",
    "\n",
    "# Let's drop NAs and limit to numeric values\n",
    "df = df._get_numeric_data().dropna()\n",
    "X = df.drop('pm2.5', axis='columns')\n",
    "y = df['pm2.5']\n",
    "\n",
    "linear_reg = LinearRegression().fit(X, y)\n",
    "linear_reg.score(X, y)"
   ]
  },
  {
   "cell_type": "code",
   "execution_count": 133,
   "metadata": {
    "colab": {
     "base_uri": "https://localhost:8080/",
     "height": 462
    },
    "colab_type": "code",
    "id": "-viFFtm0RizM",
    "outputId": "256d7680-1a43-4958-c74c-31aaef917906"
   },
   "outputs": [
    {
     "name": "stdout",
     "output_type": "stream",
     "text": [
      "pm25 ~ No + year + month + day + hour + DEWP + TEMP + PRES + Iws + Is + Ir\n"
     ]
    },
    {
     "name": "stderr",
     "output_type": "stream",
     "text": [
      "/Users/danielleromanoff/.local/lib/python3.6/site-packages/scipy/stats/stats.py:1713: FutureWarning: Using a non-tuple sequence for multidimensional indexing is deprecated; use `arr[tuple(seq)]` instead of `arr[seq]`. In the future this will be interpreted as an array index, `arr[np.array(seq)]`, which will result either in an error or a different result.\n",
      "  return np.add.reduce(sorted[indexer] * weights, axis=axis) / sumval\n"
     ]
    },
    {
     "data": {
      "text/html": [
       "<table class=\"simpletable\">\n",
       "<caption>QuantReg Regression Results</caption>\n",
       "<tr>\n",
       "  <th>Dep. Variable:</th>       <td>pm25</td>       <th>  Pseudo R-squared:  </th> <td>  0.1600</td>\n",
       "</tr>\n",
       "<tr>\n",
       "  <th>Model:</th>             <td>QuantReg</td>     <th>  Bandwidth:         </th> <td>   8.276</td>\n",
       "</tr>\n",
       "<tr>\n",
       "  <th>Method:</th>          <td>Least Squares</td>  <th>  Sparsity:          </th> <td>   133.8</td>\n",
       "</tr>\n",
       "<tr>\n",
       "  <th>Date:</th>          <td>Wed, 23 Jan 2019</td> <th>  No. Observations:  </th>  <td> 41757</td> \n",
       "</tr>\n",
       "<tr>\n",
       "  <th>Time:</th>              <td>18:02:17</td>     <th>  Df Residuals:      </th>  <td> 41745</td> \n",
       "</tr>\n",
       "<tr>\n",
       "  <th> </th>                      <td> </td>        <th>  Df Model:          </th>  <td>    11</td> \n",
       "</tr>\n",
       "</table>\n",
       "<table class=\"simpletable\">\n",
       "<tr>\n",
       "      <td></td>         <th>coef</th>     <th>std err</th>      <th>t</th>      <th>P>|t|</th>  <th>[0.025</th>    <th>0.975]</th>  \n",
       "</tr>\n",
       "<tr>\n",
       "  <th>Intercept</th> <td>    0.0004</td> <td> 1.67e-05</td> <td>   22.881</td> <td> 0.000</td> <td>    0.000</td> <td>    0.000</td>\n",
       "</tr>\n",
       "<tr>\n",
       "  <th>No</th>        <td>  3.63e-07</td> <td> 2.67e-05</td> <td>    0.014</td> <td> 0.989</td> <td> -5.2e-05</td> <td> 5.27e-05</td>\n",
       "</tr>\n",
       "<tr>\n",
       "  <th>year</th>      <td>    0.8830</td> <td>    0.031</td> <td>   28.631</td> <td> 0.000</td> <td>    0.823</td> <td>    0.943</td>\n",
       "</tr>\n",
       "<tr>\n",
       "  <th>month</th>     <td>   -1.4110</td> <td>    0.103</td> <td>  -13.749</td> <td> 0.000</td> <td>   -1.612</td> <td>   -1.210</td>\n",
       "</tr>\n",
       "<tr>\n",
       "  <th>day</th>       <td>    0.4461</td> <td>    0.037</td> <td>   11.951</td> <td> 0.000</td> <td>    0.373</td> <td>    0.519</td>\n",
       "</tr>\n",
       "<tr>\n",
       "  <th>hour</th>      <td>    1.2810</td> <td>    0.050</td> <td>   25.779</td> <td> 0.000</td> <td>    1.184</td> <td>    1.378</td>\n",
       "</tr>\n",
       "<tr>\n",
       "  <th>DEWP</th>      <td>    3.6362</td> <td>    0.047</td> <td>   77.315</td> <td> 0.000</td> <td>    3.544</td> <td>    3.728</td>\n",
       "</tr>\n",
       "<tr>\n",
       "  <th>TEMP</th>      <td>   -4.7103</td> <td>    0.060</td> <td>  -78.779</td> <td> 0.000</td> <td>   -4.828</td> <td>   -4.593</td>\n",
       "</tr>\n",
       "<tr>\n",
       "  <th>PRES</th>      <td>   -1.6265</td> <td>    0.061</td> <td>  -26.760</td> <td> 0.000</td> <td>   -1.746</td> <td>   -1.507</td>\n",
       "</tr>\n",
       "<tr>\n",
       "  <th>Iws</th>       <td>   -0.1541</td> <td>    0.007</td> <td>  -21.786</td> <td> 0.000</td> <td>   -0.168</td> <td>   -0.140</td>\n",
       "</tr>\n",
       "<tr>\n",
       "  <th>Is</th>        <td>   -1.6322</td> <td>    0.425</td> <td>   -3.838</td> <td> 0.000</td> <td>   -2.466</td> <td>   -0.799</td>\n",
       "</tr>\n",
       "<tr>\n",
       "  <th>Ir</th>        <td>   -5.3946</td> <td>    0.234</td> <td>  -23.034</td> <td> 0.000</td> <td>   -5.854</td> <td>   -4.936</td>\n",
       "</tr>\n",
       "</table><br/><br/>The condition number is large, 3.07e+10. This might indicate that there are<br/>strong multicollinearity or other numerical problems."
      ],
      "text/plain": [
       "<class 'statsmodels.iolib.summary.Summary'>\n",
       "\"\"\"\n",
       "                         QuantReg Regression Results                          \n",
       "==============================================================================\n",
       "Dep. Variable:                   pm25   Pseudo R-squared:               0.1600\n",
       "Model:                       QuantReg   Bandwidth:                       8.276\n",
       "Method:                 Least Squares   Sparsity:                        133.8\n",
       "Date:                Wed, 23 Jan 2019   No. Observations:                41757\n",
       "Time:                        18:02:17   Df Residuals:                    41745\n",
       "                                        Df Model:                           11\n",
       "==============================================================================\n",
       "                 coef    std err          t      P>|t|      [0.025      0.975]\n",
       "------------------------------------------------------------------------------\n",
       "Intercept      0.0004   1.67e-05     22.881      0.000       0.000       0.000\n",
       "No           3.63e-07   2.67e-05      0.014      0.989    -5.2e-05    5.27e-05\n",
       "year           0.8830      0.031     28.631      0.000       0.823       0.943\n",
       "month         -1.4110      0.103    -13.749      0.000      -1.612      -1.210\n",
       "day            0.4461      0.037     11.951      0.000       0.373       0.519\n",
       "hour           1.2810      0.050     25.779      0.000       1.184       1.378\n",
       "DEWP           3.6362      0.047     77.315      0.000       3.544       3.728\n",
       "TEMP          -4.7103      0.060    -78.779      0.000      -4.828      -4.593\n",
       "PRES          -1.6265      0.061    -26.760      0.000      -1.746      -1.507\n",
       "Iws           -0.1541      0.007    -21.786      0.000      -0.168      -0.140\n",
       "Is            -1.6322      0.425     -3.838      0.000      -2.466      -0.799\n",
       "Ir            -5.3946      0.234    -23.034      0.000      -5.854      -4.936\n",
       "==============================================================================\n",
       "\n",
       "The condition number is large, 3.07e+10. This might indicate that there are\n",
       "strong multicollinearity or other numerical problems.\n",
       "\"\"\""
      ]
     },
     "execution_count": 133,
     "metadata": {},
     "output_type": "execute_result"
    }
   ],
   "source": [
    "# Not bad - but what if we wanted to model the distribution more conservatively?\n",
    "# Let's try quantile\n",
    "import statsmodels.formula.api as smf\n",
    "\n",
    "# Different jargon/API in StatsModel documentation\n",
    "# \"endogenous\" response var is dependent (y), it is \"inside\"\n",
    "# \"exogenous\" variables are independent (X), it is \"outside\"\n",
    "# Bonus points - talk about \"exogenous shocks\" and you're a bona fide economist\n",
    "\n",
    "# ~ style formulas look like what R uses\n",
    "# y ~ x1 + x2 + ...\n",
    "# Also, these formulas break with . in variable name, so lets change that\n",
    "df = df.rename(index=str, columns={'pm2.5': 'pm25'})\n",
    "\n",
    "# Now let's construct the formula string using all columns\n",
    "quant_formula = 'pm25 ~ ' + ' + '.join(df.drop('pm25', axis='columns').columns)\n",
    "print(quant_formula)\n",
    "\n",
    "quant_mod = smf.quantreg(quant_formula, data=df)\n",
    "quant_reg = quant_mod.fit(q=.5)\n",
    "quant_reg.summary()  # \"summary\" is another very R-thing"
   ]
  },
  {
   "cell_type": "markdown",
   "metadata": {
    "colab_type": "text",
    "id": "ZBkP4bewd-HT"
   },
   "source": [
    "That fit to the median (q=0.5), also called \"Least Absolute Deviation.\" The pseudo-R^2 isn't really directly comparable to the R^2 from linear regression, but it clearly isn't dramatically improved. Can we make it better?"
   ]
  },
  {
   "cell_type": "code",
   "execution_count": 134,
   "metadata": {
    "colab": {
     "base_uri": "https://localhost:8080/",
     "height": 593
    },
    "colab_type": "code",
    "id": "BgvYeHg3bL4g",
    "outputId": "bf4547a0-7739-45d8-bf5a-26ab1684f7f6"
   },
   "outputs": [
    {
     "name": "stdout",
     "output_type": "stream",
     "text": [
      "Help on method fit in module statsmodels.regression.quantile_regression:\n",
      "\n",
      "fit(q=0.5, vcov='robust', kernel='epa', bandwidth='hsheather', max_iter=1000, p_tol=1e-06, **kwargs) method of statsmodels.regression.quantile_regression.QuantReg instance\n",
      "    Solve by Iterative Weighted Least Squares\n",
      "    \n",
      "    Parameters\n",
      "    ----------\n",
      "    q : float\n",
      "        Quantile must be between 0 and 1\n",
      "    vcov : string, method used to calculate the variance-covariance matrix\n",
      "        of the parameters. Default is ``robust``:\n",
      "    \n",
      "        - robust : heteroskedasticity robust standard errors (as suggested\n",
      "          in Greene 6th edition)\n",
      "        - iid : iid errors (as in Stata 12)\n",
      "    \n",
      "    kernel : string, kernel to use in the kernel density estimation for the\n",
      "        asymptotic covariance matrix:\n",
      "    \n",
      "        - epa: Epanechnikov\n",
      "        - cos: Cosine\n",
      "        - gau: Gaussian\n",
      "        - par: Parzene\n",
      "    \n",
      "    bandwidth: string, Bandwidth selection method in kernel density\n",
      "        estimation for asymptotic covariance estimate (full\n",
      "        references in QuantReg docstring):\n",
      "    \n",
      "        - hsheather: Hall-Sheather (1988)\n",
      "        - bofinger: Bofinger (1975)\n",
      "        - chamberlain: Chamberlain (1994)\n",
      "\n"
     ]
    }
   ],
   "source": [
    "help(quant_mod.fit)"
   ]
  },
  {
   "cell_type": "code",
   "execution_count": 135,
   "metadata": {
    "colab": {
     "base_uri": "https://localhost:8080/",
     "height": 1424
    },
    "colab_type": "code",
    "id": "lpNPioZTei4U",
    "outputId": "40fc70a6-43c5-44a0-a012-923bd3f826a8"
   },
   "outputs": [
    {
     "name": "stdout",
     "output_type": "stream",
     "text": [
      "                         QuantReg Regression Results                          \n",
      "==============================================================================\n",
      "Dep. Variable:                   pm25   Pseudo R-squared:              0.04130\n",
      "Model:                       QuantReg   Bandwidth:                       8.908\n",
      "Method:                 Least Squares   Sparsity:                        120.7\n",
      "Date:                Wed, 23 Jan 2019   No. Observations:                41757\n",
      "Time:                        18:02:18   Df Residuals:                    41745\n",
      "                                        Df Model:                           11\n",
      "==============================================================================\n",
      "                 coef    std err          t      P>|t|      [0.025      0.975]\n",
      "------------------------------------------------------------------------------\n",
      "Intercept   3.072e-05    6.4e-06      4.803      0.000    1.82e-05    4.33e-05\n",
      "No         -6.994e-05   9.59e-06     -7.292      0.000   -8.87e-05   -5.11e-05\n",
      "year           0.0998      0.012      8.275      0.000       0.076       0.123\n",
      "month         -0.4536      0.034    -13.419      0.000      -0.520      -0.387\n",
      "day            0.1143      0.015      7.862      0.000       0.086       0.143\n",
      "hour           0.3777      0.020     19.013      0.000       0.339       0.417\n",
      "DEWP           0.7720      0.014     55.266      0.000       0.745       0.799\n",
      "TEMP          -0.8346      0.020    -41.621      0.000      -0.874      -0.795\n",
      "PRES          -0.1734      0.024     -7.290      0.000      -0.220      -0.127\n",
      "Iws           -0.0364      0.002    -17.462      0.000      -0.040      -0.032\n",
      "Is             1.4573      0.195      7.466      0.000       1.075       1.840\n",
      "Ir            -1.2952      0.071    -18.209      0.000      -1.435      -1.156\n",
      "==============================================================================\n",
      "\n",
      "The condition number is large, 3.07e+10. This might indicate that there are\n",
      "strong multicollinearity or other numerical problems.\n",
      "                         QuantReg Regression Results                          \n",
      "==============================================================================\n",
      "Dep. Variable:                   pm25   Pseudo R-squared:               0.2194\n",
      "Model:                       QuantReg   Bandwidth:                       10.41\n",
      "Method:                 Least Squares   Sparsity:                        1322.\n",
      "Date:                Wed, 23 Jan 2019   No. Observations:                41757\n",
      "Time:                        18:02:19   Df Residuals:                    41745\n",
      "                                        Df Model:                           11\n",
      "==============================================================================\n",
      "                 coef    std err          t      P>|t|      [0.025      0.975]\n",
      "------------------------------------------------------------------------------\n",
      "Intercept      0.0004   6.86e-05      5.308      0.000       0.000       0.000\n",
      "No          7.821e-05      0.000      0.696      0.486      -0.000       0.000\n",
      "year           1.0580      0.124      8.540      0.000       0.815       1.301\n",
      "month         -3.9661      0.446     -8.902      0.000      -4.839      -3.093\n",
      "day            1.0816      0.136      7.936      0.000       0.814       1.349\n",
      "hour           2.3661      0.192     12.355      0.000       1.991       2.741\n",
      "DEWP           7.5176      0.235     32.004      0.000       7.057       7.978\n",
      "TEMP         -11.6991      0.302    -38.701      0.000     -12.292     -11.107\n",
      "PRES          -1.7121      0.244     -7.004      0.000      -2.191      -1.233\n",
      "Iws           -0.4151      0.034    -12.339      0.000      -0.481      -0.349\n",
      "Is            -5.7267      1.580     -3.624      0.000      -8.824      -2.630\n",
      "Ir            -9.3197      1.457     -6.397      0.000     -12.175      -6.464\n",
      "==============================================================================\n",
      "\n",
      "The condition number is large, 3.07e+10. This might indicate that there are\n",
      "strong multicollinearity or other numerical problems.\n",
      "                         QuantReg Regression Results                          \n",
      "==============================================================================\n",
      "Dep. Variable:                   pm25   Pseudo R-squared:              0.06497\n",
      "Model:                       QuantReg   Bandwidth:                       8.092\n",
      "Method:                 Least Squares   Sparsity:                        104.4\n",
      "Date:                Wed, 23 Jan 2019   No. Observations:                41757\n",
      "Time:                        18:02:21   Df Residuals:                    41745\n",
      "                                        Df Model:                           11\n",
      "==============================================================================\n",
      "                 coef    std err          t      P>|t|      [0.025      0.975]\n",
      "------------------------------------------------------------------------------\n",
      "Intercept   5.214e-05   7.84e-06      6.650      0.000    3.68e-05    6.75e-05\n",
      "No         -9.232e-05   1.17e-05     -7.888      0.000      -0.000   -6.94e-05\n",
      "year           0.1521      0.015     10.386      0.000       0.123       0.181\n",
      "month         -0.5581      0.042    -13.138      0.000      -0.641      -0.475\n",
      "day            0.1708      0.017      9.893      0.000       0.137       0.205\n",
      "hour           0.4604      0.024     19.350      0.000       0.414       0.507\n",
      "DEWP           1.2350      0.017     70.845      0.000       1.201       1.269\n",
      "TEMP          -1.3088      0.024    -54.101      0.000      -1.356      -1.261\n",
      "PRES          -0.2652      0.029     -9.183      0.000      -0.322      -0.209\n",
      "Iws           -0.0436      0.003    -16.919      0.000      -0.049      -0.039\n",
      "Is             1.0745      0.231      4.653      0.000       0.622       1.527\n",
      "Ir            -1.9619      0.087    -22.504      0.000      -2.133      -1.791\n",
      "==============================================================================\n",
      "\n",
      "The condition number is large, 3.07e+10. This might indicate that there are\n",
      "strong multicollinearity or other numerical problems.\n"
     ]
    }
   ],
   "source": [
    "quantiles = (.05, .96, .1)\n",
    "\n",
    "for quantile in quantiles:\n",
    "  print(quant_mod.fit(q=quantile).summary())"
   ]
  },
  {
   "cell_type": "markdown",
   "metadata": {
    "colab_type": "text",
    "id": "Xqh4Jp1XgjrE"
   },
   "source": [
    "\"Strong multicollinearity\", eh? In other words - maybe we shouldn't throw every variable in our formula. Let's hand-craft a smaller one, picking the features with the largest magnitude t-statistics for their coefficients. Let's also search for more quantile cutoffs to see what's most effective."
   ]
  },
  {
   "cell_type": "code",
   "execution_count": 136,
   "metadata": {
    "colab": {
     "base_uri": "https://localhost:8080/",
     "height": 975
    },
    "colab_type": "code",
    "id": "NmoELnXwgpXd",
    "outputId": "1865f1b1-778a-4e73-91b7-d30ad29b2ee2"
   },
   "outputs": [
    {
     "name": "stdout",
     "output_type": "stream",
     "text": [
      "(0.5, 0.1447879336021498)\n",
      "(0.51, 0.14530464991095493)\n",
      "(0.52, 0.1457984456251128)\n",
      "(0.53, 0.14627848333343263)\n",
      "(0.54, 0.1467640446762244)\n",
      "(0.55, 0.1473309466887076)\n",
      "(0.56, 0.1478782179773276)\n",
      "(0.57, 0.1484018562106687)\n",
      "(0.58, 0.14892138273880662)\n",
      "(0.59, 0.1494679397205867)\n"
     ]
    },
    {
     "name": "stderr",
     "output_type": "stream",
     "text": [
      "/Users/danielleromanoff/anaconda3/lib/python3.6/site-packages/statsmodels/regression/quantile_regression.py:193: IterationLimitWarning: Maximum number of iterations (1000) reached.\n",
      "  \") reached.\", IterationLimitWarning)\n"
     ]
    },
    {
     "name": "stdout",
     "output_type": "stream",
     "text": [
      "(0.6, 0.15004508362720093)\n",
      "(0.61, 0.15066665496415976)\n",
      "(0.62, 0.15131550520931358)\n",
      "(0.63, 0.15201598245712833)\n",
      "(0.64, 0.15281563218059802)\n",
      "(0.65, 0.15360133883608762)\n",
      "(0.66, 0.15440046026580068)\n",
      "(0.67, 0.15521251758534416)\n",
      "(0.68, 0.15607615678951048)\n"
     ]
    },
    {
     "ename": "KeyboardInterrupt",
     "evalue": "",
     "output_type": "error",
     "traceback": [
      "\u001b[0;31m---------------------------------------------------------------------------\u001b[0m",
      "\u001b[0;31mKeyboardInterrupt\u001b[0m                         Traceback (most recent call last)",
      "\u001b[0;32m<ipython-input-136-1fd65b968d0e>\u001b[0m in \u001b[0;36m<module>\u001b[0;34m\u001b[0m\n\u001b[1;32m      3\u001b[0m \u001b[0;32mfor\u001b[0m \u001b[0mquantile\u001b[0m \u001b[0;32min\u001b[0m \u001b[0mrange\u001b[0m\u001b[0;34m(\u001b[0m\u001b[0;36m50\u001b[0m\u001b[0;34m,\u001b[0m \u001b[0;36m100\u001b[0m\u001b[0;34m)\u001b[0m\u001b[0;34m:\u001b[0m\u001b[0;34m\u001b[0m\u001b[0m\n\u001b[1;32m      4\u001b[0m   \u001b[0mquantile\u001b[0m \u001b[0;34m/=\u001b[0m \u001b[0;36m100\u001b[0m\u001b[0;34m\u001b[0m\u001b[0m\n\u001b[0;32m----> 5\u001b[0;31m   \u001b[0mquant_reg\u001b[0m \u001b[0;34m=\u001b[0m \u001b[0mquant_mod\u001b[0m\u001b[0;34m.\u001b[0m\u001b[0mfit\u001b[0m\u001b[0;34m(\u001b[0m\u001b[0mq\u001b[0m\u001b[0;34m=\u001b[0m\u001b[0mquantile\u001b[0m\u001b[0;34m)\u001b[0m\u001b[0;34m\u001b[0m\u001b[0m\n\u001b[0m\u001b[1;32m      6\u001b[0m   \u001b[0mprint\u001b[0m\u001b[0;34m(\u001b[0m\u001b[0;34m(\u001b[0m\u001b[0mquantile\u001b[0m\u001b[0;34m,\u001b[0m \u001b[0mquant_reg\u001b[0m\u001b[0;34m.\u001b[0m\u001b[0mprsquared\u001b[0m\u001b[0;34m)\u001b[0m\u001b[0;34m)\u001b[0m\u001b[0;34m\u001b[0m\u001b[0m\n",
      "\u001b[0;32m~/anaconda3/lib/python3.6/site-packages/statsmodels/regression/quantile_regression.py\u001b[0m in \u001b[0;36mfit\u001b[0;34m(self, q, vcov, kernel, bandwidth, max_iter, p_tol, **kwargs)\u001b[0m\n\u001b[1;32m    169\u001b[0m             \u001b[0mxtx\u001b[0m \u001b[0;34m=\u001b[0m \u001b[0mnp\u001b[0m\u001b[0;34m.\u001b[0m\u001b[0mdot\u001b[0m\u001b[0;34m(\u001b[0m\u001b[0mxstar\u001b[0m\u001b[0;34m.\u001b[0m\u001b[0mT\u001b[0m\u001b[0;34m,\u001b[0m \u001b[0mexog\u001b[0m\u001b[0;34m)\u001b[0m\u001b[0;34m\u001b[0m\u001b[0m\n\u001b[1;32m    170\u001b[0m             \u001b[0mxty\u001b[0m \u001b[0;34m=\u001b[0m \u001b[0mnp\u001b[0m\u001b[0;34m.\u001b[0m\u001b[0mdot\u001b[0m\u001b[0;34m(\u001b[0m\u001b[0mxstar\u001b[0m\u001b[0;34m.\u001b[0m\u001b[0mT\u001b[0m\u001b[0;34m,\u001b[0m \u001b[0mendog\u001b[0m\u001b[0;34m)\u001b[0m\u001b[0;34m\u001b[0m\u001b[0m\n\u001b[0;32m--> 171\u001b[0;31m             \u001b[0mbeta\u001b[0m \u001b[0;34m=\u001b[0m \u001b[0mnp\u001b[0m\u001b[0;34m.\u001b[0m\u001b[0mdot\u001b[0m\u001b[0;34m(\u001b[0m\u001b[0mpinv\u001b[0m\u001b[0;34m(\u001b[0m\u001b[0mxtx\u001b[0m\u001b[0;34m)\u001b[0m\u001b[0;34m,\u001b[0m \u001b[0mxty\u001b[0m\u001b[0;34m)\u001b[0m\u001b[0;34m\u001b[0m\u001b[0m\n\u001b[0m\u001b[1;32m    172\u001b[0m             \u001b[0mresid\u001b[0m \u001b[0;34m=\u001b[0m \u001b[0mendog\u001b[0m \u001b[0;34m-\u001b[0m \u001b[0mnp\u001b[0m\u001b[0;34m.\u001b[0m\u001b[0mdot\u001b[0m\u001b[0;34m(\u001b[0m\u001b[0mexog\u001b[0m\u001b[0;34m,\u001b[0m \u001b[0mbeta\u001b[0m\u001b[0;34m)\u001b[0m\u001b[0;34m\u001b[0m\u001b[0m\n\u001b[1;32m    173\u001b[0m \u001b[0;34m\u001b[0m\u001b[0m\n",
      "\u001b[0;32m~/.local/lib/python3.6/site-packages/scipy/linalg/basic.py\u001b[0m in \u001b[0;36mpinv\u001b[0;34m(a, cond, rcond, return_rank, check_finite)\u001b[0m\n\u001b[1;32m   1319\u001b[0m         \u001b[0mcond\u001b[0m \u001b[0;34m=\u001b[0m \u001b[0mrcond\u001b[0m\u001b[0;34m\u001b[0m\u001b[0m\n\u001b[1;32m   1320\u001b[0m \u001b[0;34m\u001b[0m\u001b[0m\n\u001b[0;32m-> 1321\u001b[0;31m     \u001b[0mx\u001b[0m\u001b[0;34m,\u001b[0m \u001b[0mresids\u001b[0m\u001b[0;34m,\u001b[0m \u001b[0mrank\u001b[0m\u001b[0;34m,\u001b[0m \u001b[0ms\u001b[0m \u001b[0;34m=\u001b[0m \u001b[0mlstsq\u001b[0m\u001b[0;34m(\u001b[0m\u001b[0ma\u001b[0m\u001b[0;34m,\u001b[0m \u001b[0mb\u001b[0m\u001b[0;34m,\u001b[0m \u001b[0mcond\u001b[0m\u001b[0;34m=\u001b[0m\u001b[0mcond\u001b[0m\u001b[0;34m,\u001b[0m \u001b[0mcheck_finite\u001b[0m\u001b[0;34m=\u001b[0m\u001b[0;32mFalse\u001b[0m\u001b[0;34m)\u001b[0m\u001b[0;34m\u001b[0m\u001b[0m\n\u001b[0m\u001b[1;32m   1322\u001b[0m \u001b[0;34m\u001b[0m\u001b[0m\n\u001b[1;32m   1323\u001b[0m     \u001b[0;32mif\u001b[0m \u001b[0mreturn_rank\u001b[0m\u001b[0;34m:\u001b[0m\u001b[0;34m\u001b[0m\u001b[0m\n",
      "\u001b[0;32m~/.local/lib/python3.6/site-packages/scipy/linalg/basic.py\u001b[0m in \u001b[0;36mlstsq\u001b[0;34m(a, b, cond, overwrite_a, overwrite_b, check_finite, lapack_driver)\u001b[0m\n\u001b[1;32m   1197\u001b[0m \u001b[0;34m\u001b[0m\u001b[0m\n\u001b[1;32m   1198\u001b[0m     \u001b[0;32mif\u001b[0m \u001b[0mcond\u001b[0m \u001b[0;32mis\u001b[0m \u001b[0;32mNone\u001b[0m\u001b[0;34m:\u001b[0m\u001b[0;34m\u001b[0m\u001b[0m\n\u001b[0;32m-> 1199\u001b[0;31m         \u001b[0mcond\u001b[0m \u001b[0;34m=\u001b[0m \u001b[0mnp\u001b[0m\u001b[0;34m.\u001b[0m\u001b[0mfinfo\u001b[0m\u001b[0;34m(\u001b[0m\u001b[0mlapack_func\u001b[0m\u001b[0;34m.\u001b[0m\u001b[0mdtype\u001b[0m\u001b[0;34m)\u001b[0m\u001b[0;34m.\u001b[0m\u001b[0meps\u001b[0m\u001b[0;34m\u001b[0m\u001b[0m\n\u001b[0m\u001b[1;32m   1200\u001b[0m \u001b[0;34m\u001b[0m\u001b[0m\n\u001b[1;32m   1201\u001b[0m     \u001b[0;32mif\u001b[0m \u001b[0mdriver\u001b[0m \u001b[0;32min\u001b[0m \u001b[0;34m(\u001b[0m\u001b[0;34m'gelss'\u001b[0m\u001b[0;34m,\u001b[0m \u001b[0;34m'gelsd'\u001b[0m\u001b[0;34m)\u001b[0m\u001b[0;34m:\u001b[0m\u001b[0;34m\u001b[0m\u001b[0m\n",
      "\u001b[0;32m~/anaconda3/lib/python3.6/site-packages/numpy/core/getlimits.py\u001b[0m in \u001b[0;36m__new__\u001b[0;34m(cls, dtype)\u001b[0m\n\u001b[1;32m    374\u001b[0m     \u001b[0m_finfo_cache\u001b[0m \u001b[0;34m=\u001b[0m \u001b[0;34m{\u001b[0m\u001b[0;34m}\u001b[0m\u001b[0;34m\u001b[0m\u001b[0m\n\u001b[1;32m    375\u001b[0m \u001b[0;34m\u001b[0m\u001b[0m\n\u001b[0;32m--> 376\u001b[0;31m     \u001b[0;32mdef\u001b[0m \u001b[0m__new__\u001b[0m\u001b[0;34m(\u001b[0m\u001b[0mcls\u001b[0m\u001b[0;34m,\u001b[0m \u001b[0mdtype\u001b[0m\u001b[0;34m)\u001b[0m\u001b[0;34m:\u001b[0m\u001b[0;34m\u001b[0m\u001b[0m\n\u001b[0m\u001b[1;32m    377\u001b[0m         \u001b[0;32mtry\u001b[0m\u001b[0;34m:\u001b[0m\u001b[0;34m\u001b[0m\u001b[0m\n\u001b[1;32m    378\u001b[0m             \u001b[0mdtype\u001b[0m \u001b[0;34m=\u001b[0m \u001b[0mnumeric\u001b[0m\u001b[0;34m.\u001b[0m\u001b[0mdtype\u001b[0m\u001b[0;34m(\u001b[0m\u001b[0mdtype\u001b[0m\u001b[0;34m)\u001b[0m\u001b[0;34m\u001b[0m\u001b[0m\n",
      "\u001b[0;31mKeyboardInterrupt\u001b[0m: "
     ]
    }
   ],
   "source": [
    "quant_formula = 'pm25 ~ DEWP + TEMP + Ir + hour + Iws'\n",
    "quant_mod = smf.quantreg(quant_formula, data=df)\n",
    "for quantile in range(50, 100):\n",
    "  quantile /= 100\n",
    "  quant_reg = quant_mod.fit(q=quantile)\n",
    "  print((quantile, quant_reg.prsquared))"
   ]
  },
  {
   "cell_type": "code",
   "execution_count": null,
   "metadata": {
    "colab": {
     "base_uri": "https://localhost:8080/",
     "height": 444
    },
    "colab_type": "code",
    "id": "Bz0GmE5kuwQY",
    "outputId": "d139eca6-fa58-4f4c-a051-18b3e2d7ee13"
   },
   "outputs": [],
   "source": [
    "# Okay, this data seems *extremely* skewed\n",
    "# Let's trying logging\n",
    "import numpy as np\n",
    "\n",
    "df['pm25'] = np.log(1 + df['pm25'])\n",
    "quant_mod = smf.quantreg(quant_formula, data=df)\n",
    "quant_reg = quant_mod.fit(q=.25)\n",
    "quant_reg.summary()  # \"summary\" is another very R-thing"
   ]
  },
  {
   "cell_type": "markdown",
   "metadata": {
    "colab_type": "text",
    "id": "8kXcxnNBgizX"
   },
   "source": [
    "Overall - in this case, quantile regression is not *necessarily* superior to linear regression. But it does give us extra flexibility and another thing to tune - what the center of what we're actually fitting in the dependent variable.\n",
    "\n",
    "The basic case of `q=0.5` (the median) minimizes the absolute value of residuals, while OLS minimizes the squared value. By selecting `q=0.25`, we're targeting a lower quantile and are effectively saying that we only want to over-estimate at most 25% of the time - we're being *risk averse*.\n",
    "\n",
    "Depending on the data you're looking at, and the cost of making a false positive versus a false negative, this sort of flexibility can be extremely useful.\n",
    "\n",
    "Live - let's consider another dataset! Specifically, \"SkillCraft\" (data on competitive StarCraft players): http://archive.ics.uci.edu/ml/datasets/SkillCraft1+Master+Table+Dataset"
   ]
  },
  {
   "cell_type": "code",
   "execution_count": null,
   "metadata": {
    "colab": {},
    "colab_type": "code",
    "id": "ofvwSAZUhWDw"
   },
   "outputs": [],
   "source": [
    "# TODO Live!\n",
    "# Hint - we may only care about the *top* quantiles here\n",
    "# Another hint - there are missing values, but Pandas won't see them right away"
   ]
  },
  {
   "cell_type": "markdown",
   "metadata": {
    "colab_type": "text",
    "id": "o2BADEQUirXa"
   },
   "source": [
    "## Assignment - birth weight data\n",
    "\n",
    "Birth weight is a situation where, while the data itself is actually fairly normal and symmetric, our main goal is actually *not* to model mean weight (via OLS), but rather to identify mothers at risk of having children below a certain \"at-risk\" threshold weight.\n",
    "\n",
    "Quantile regression gives us just the tool we need. For the data we are using, see: http://people.reed.edu/~jones/141/BirthWgt.html\n",
    "\n",
    "    bwt: baby's weight in ounces at birth\n",
    "    gestation: duration of pregnancy in days\n",
    "    parity: parity indicator (first born = 1, later birth = 0)\n",
    "    age: mother's age in years\n",
    "    height: mother's height in inches\n",
    "    weight: mother's weight in pounds (during pregnancy)\n",
    "    smoke: indicator for whether mother smokes (1=yes, 0=no) \n",
    "    \n",
    "Use this data and `statsmodels` to fit a quantile regression, predicting `bwt` (birth weight) as a function of the other covariates. First, identify an appropriate `q` (quantile) to target a cutoff of 90 ounces - babies above that birth weight are generally healthy/safe, babies below are at-risk.\n",
    "\n",
    "Then, fit and iterate your model. Be creative! You may want to engineer features. Hint - mother's age likely is not simply linear in its impact, and the other features may interact as well.\n",
    "\n",
    "At the end, create at least *2* tables and *1* visualization to summarize your best model. Then (in writing) answer the following questions:\n",
    "\n",
    "- What characteristics of a mother indicate the highest likelihood of an at-risk (low weight) baby?\n",
    "- What can expectant mothers be told to help mitigate this risk?\n",
    "\n",
    "Note that second question is not exactly a data science question - and that's okay! You're not expected to be a medical expert, but it is a good exercise to do a little bit of digging into a particular domain and offer informal but informed opinions."
   ]
  },
  {
   "cell_type": "code",
   "execution_count": 185,
   "metadata": {},
   "outputs": [
    {
     "name": "stdout",
     "output_type": "stream",
     "text": [
      "Requirement already up-to-date: matplotlib in /Users/danielleromanoff/anaconda3/lib/python3.6/site-packages (3.0.2)\n",
      "Requirement already satisfied, skipping upgrade: cycler>=0.10 in /Users/danielleromanoff/anaconda3/lib/python3.6/site-packages (from matplotlib) (0.10.0)\n",
      "Requirement already satisfied, skipping upgrade: pyparsing!=2.0.4,!=2.1.2,!=2.1.6,>=2.0.1 in /Users/danielleromanoff/anaconda3/lib/python3.6/site-packages (from matplotlib) (2.3.0)\n",
      "Requirement already satisfied, skipping upgrade: python-dateutil>=2.1 in /Users/danielleromanoff/anaconda3/lib/python3.6/site-packages (from matplotlib) (2.7.5)\n",
      "Requirement already satisfied, skipping upgrade: numpy>=1.10.0 in /Users/danielleromanoff/anaconda3/lib/python3.6/site-packages (from matplotlib) (1.15.4)\n",
      "Requirement already satisfied, skipping upgrade: kiwisolver>=1.0.1 in /Users/danielleromanoff/anaconda3/lib/python3.6/site-packages (from matplotlib) (1.0.1)\n",
      "Requirement already satisfied, skipping upgrade: six in /Users/danielleromanoff/anaconda3/lib/python3.6/site-packages (from cycler>=0.10->matplotlib) (1.12.0)\n",
      "Requirement already satisfied, skipping upgrade: setuptools in /Users/danielleromanoff/anaconda3/lib/python3.6/site-packages (from kiwisolver>=1.0.1->matplotlib) (40.6.2)\n",
      "Collecting numpy\n",
      "\u001b[?25l  Downloading https://files.pythonhosted.org/packages/e4/50/380aebcda065f62febb99fd5a7253d27d9f10719c5d90938ee642b4fee54/numpy-1.16.0-cp36-cp36m-macosx_10_6_intel.macosx_10_9_intel.macosx_10_9_x86_64.macosx_10_10_intel.macosx_10_10_x86_64.whl (13.9MB)\n",
      "\u001b[K    100% |████████████████████████████████| 13.9MB 1.4MB/s \n",
      "\u001b[31mlifelines 0.17.2 has requirement matplotlib<3.0,>=2.0, but you'll have matplotlib 3.0.2 which is incompatible.\u001b[0m\n",
      "\u001b[?25hInstalling collected packages: numpy\n",
      "  Found existing installation: numpy 1.15.4\n",
      "    Uninstalling numpy-1.15.4:\n",
      "      Successfully uninstalled numpy-1.15.4\n",
      "Successfully installed numpy-1.16.0\n"
     ]
    }
   ],
   "source": [
    "!pip install -U numpy"
   ]
  },
  {
   "cell_type": "code",
   "execution_count": 199,
   "metadata": {},
   "outputs": [
    {
     "name": "stdout",
     "output_type": "stream",
     "text": [
      "Requirement already up-to-date: matplotlib in /Users/danielleromanoff/anaconda3/lib/python3.6/site-packages (3.0.2)\n",
      "Requirement already satisfied, skipping upgrade: python-dateutil>=2.1 in /Users/danielleromanoff/anaconda3/lib/python3.6/site-packages (from matplotlib) (2.7.5)\n",
      "Requirement already satisfied, skipping upgrade: numpy>=1.10.0 in /Users/danielleromanoff/anaconda3/lib/python3.6/site-packages (from matplotlib) (1.16.0)\n",
      "Requirement already satisfied, skipping upgrade: kiwisolver>=1.0.1 in /Users/danielleromanoff/anaconda3/lib/python3.6/site-packages (from matplotlib) (1.0.1)\n",
      "Requirement already satisfied, skipping upgrade: pyparsing!=2.0.4,!=2.1.2,!=2.1.6,>=2.0.1 in /Users/danielleromanoff/anaconda3/lib/python3.6/site-packages (from matplotlib) (2.3.0)\n",
      "Requirement already satisfied, skipping upgrade: cycler>=0.10 in /Users/danielleromanoff/anaconda3/lib/python3.6/site-packages (from matplotlib) (0.10.0)\n",
      "Requirement already satisfied, skipping upgrade: six>=1.5 in /Users/danielleromanoff/anaconda3/lib/python3.6/site-packages (from python-dateutil>=2.1->matplotlib) (1.12.0)\n",
      "Requirement already satisfied, skipping upgrade: setuptools in /Users/danielleromanoff/anaconda3/lib/python3.6/site-packages (from kiwisolver>=1.0.1->matplotlib) (40.6.2)\n"
     ]
    }
   ],
   "source": [
    "!pip install -U matplotlib"
   ]
  },
  {
   "cell_type": "code",
   "execution_count": 200,
   "metadata": {},
   "outputs": [],
   "source": [
    "import pandas as pd\n",
    "import numpy as np\n",
    "import scipy.stats\n",
    "import seaborn as sns\n",
    "import matplotlib.pyplot as plt\n",
    "\n",
    "from sklearn.linear_model import LinearRegression\n",
    "import statsmodels.formula.api as smf"
   ]
  },
  {
   "cell_type": "code",
   "execution_count": 201,
   "metadata": {
    "colab": {
     "base_uri": "https://localhost:8080/",
     "height": 206
    },
    "colab_type": "code",
    "id": "HUWKv16FjZsY",
    "outputId": "11f1ecab-4058-4e48-ac0f-cd7cf488a2f7"
   },
   "outputs": [
    {
     "name": "stdout",
     "output_type": "stream",
     "text": [
      "(1174, 7)\n"
     ]
    },
    {
     "data": {
      "text/html": [
       "<div>\n",
       "<style scoped>\n",
       "    .dataframe tbody tr th:only-of-type {\n",
       "        vertical-align: middle;\n",
       "    }\n",
       "\n",
       "    .dataframe tbody tr th {\n",
       "        vertical-align: top;\n",
       "    }\n",
       "\n",
       "    .dataframe thead th {\n",
       "        text-align: right;\n",
       "    }\n",
       "</style>\n",
       "<table border=\"1\" class=\"dataframe\">\n",
       "  <thead>\n",
       "    <tr style=\"text-align: right;\">\n",
       "      <th></th>\n",
       "      <th>bwt</th>\n",
       "      <th>gestation</th>\n",
       "      <th>parity</th>\n",
       "      <th>age</th>\n",
       "      <th>height</th>\n",
       "      <th>weight</th>\n",
       "      <th>smoke</th>\n",
       "    </tr>\n",
       "  </thead>\n",
       "  <tbody>\n",
       "    <tr>\n",
       "      <th>0</th>\n",
       "      <td>120</td>\n",
       "      <td>284</td>\n",
       "      <td>0</td>\n",
       "      <td>27</td>\n",
       "      <td>62</td>\n",
       "      <td>100</td>\n",
       "      <td>0</td>\n",
       "    </tr>\n",
       "    <tr>\n",
       "      <th>1</th>\n",
       "      <td>113</td>\n",
       "      <td>282</td>\n",
       "      <td>0</td>\n",
       "      <td>33</td>\n",
       "      <td>64</td>\n",
       "      <td>135</td>\n",
       "      <td>0</td>\n",
       "    </tr>\n",
       "    <tr>\n",
       "      <th>2</th>\n",
       "      <td>128</td>\n",
       "      <td>279</td>\n",
       "      <td>0</td>\n",
       "      <td>28</td>\n",
       "      <td>64</td>\n",
       "      <td>115</td>\n",
       "      <td>1</td>\n",
       "    </tr>\n",
       "    <tr>\n",
       "      <th>3</th>\n",
       "      <td>108</td>\n",
       "      <td>282</td>\n",
       "      <td>0</td>\n",
       "      <td>23</td>\n",
       "      <td>67</td>\n",
       "      <td>125</td>\n",
       "      <td>1</td>\n",
       "    </tr>\n",
       "    <tr>\n",
       "      <th>4</th>\n",
       "      <td>136</td>\n",
       "      <td>286</td>\n",
       "      <td>0</td>\n",
       "      <td>25</td>\n",
       "      <td>62</td>\n",
       "      <td>93</td>\n",
       "      <td>0</td>\n",
       "    </tr>\n",
       "  </tbody>\n",
       "</table>\n",
       "</div>"
      ],
      "text/plain": [
       "   bwt  gestation  parity  age  height  weight  smoke\n",
       "0  120        284       0   27      62     100      0\n",
       "1  113        282       0   33      64     135      0\n",
       "2  128        279       0   28      64     115      1\n",
       "3  108        282       0   23      67     125      1\n",
       "4  136        286       0   25      62      93      0"
      ]
     },
     "execution_count": 201,
     "metadata": {},
     "output_type": "execute_result"
    }
   ],
   "source": [
    "newborn = pd.read_csv('http://people.reed.edu/~jones/141/Bwt.dat')\n",
    "print(newborn.shape)\n",
    "newborn.head()"
   ]
  },
  {
   "cell_type": "code",
   "execution_count": 202,
   "metadata": {},
   "outputs": [
    {
     "data": {
      "text/plain": [
       "bwt          int64\n",
       "gestation    int64\n",
       "parity       int64\n",
       "age          int64\n",
       "height       int64\n",
       "weight       int64\n",
       "smoke        int64\n",
       "dtype: object"
      ]
     },
     "execution_count": 202,
     "metadata": {},
     "output_type": "execute_result"
    }
   ],
   "source": [
    "# newborn.isnull().sum()\n",
    "newborn.dtypes"
   ]
  },
  {
   "cell_type": "code",
   "execution_count": 203,
   "metadata": {
    "colab": {
     "base_uri": "https://localhost:8080/",
     "height": 300
    },
    "colab_type": "code",
    "id": "dy5FkUZpkJT_",
    "outputId": "d4f46328-8e25-4fa5-e5b5-6ffad654c65c"
   },
   "outputs": [
    {
     "data": {
      "text/html": [
       "<div>\n",
       "<style scoped>\n",
       "    .dataframe tbody tr th:only-of-type {\n",
       "        vertical-align: middle;\n",
       "    }\n",
       "\n",
       "    .dataframe tbody tr th {\n",
       "        vertical-align: top;\n",
       "    }\n",
       "\n",
       "    .dataframe thead th {\n",
       "        text-align: right;\n",
       "    }\n",
       "</style>\n",
       "<table border=\"1\" class=\"dataframe\">\n",
       "  <thead>\n",
       "    <tr style=\"text-align: right;\">\n",
       "      <th></th>\n",
       "      <th>bwt</th>\n",
       "      <th>gestation</th>\n",
       "      <th>parity</th>\n",
       "      <th>age</th>\n",
       "      <th>height</th>\n",
       "      <th>weight</th>\n",
       "      <th>smoke</th>\n",
       "    </tr>\n",
       "  </thead>\n",
       "  <tbody>\n",
       "    <tr>\n",
       "      <th>count</th>\n",
       "      <td>1174.000000</td>\n",
       "      <td>1174.000000</td>\n",
       "      <td>1174.000000</td>\n",
       "      <td>1174.000000</td>\n",
       "      <td>1174.000000</td>\n",
       "      <td>1174.000000</td>\n",
       "      <td>1174.000000</td>\n",
       "    </tr>\n",
       "    <tr>\n",
       "      <th>mean</th>\n",
       "      <td>119.462521</td>\n",
       "      <td>279.101363</td>\n",
       "      <td>0.262351</td>\n",
       "      <td>27.228279</td>\n",
       "      <td>64.049404</td>\n",
       "      <td>128.478705</td>\n",
       "      <td>0.390971</td>\n",
       "    </tr>\n",
       "    <tr>\n",
       "      <th>std</th>\n",
       "      <td>18.328671</td>\n",
       "      <td>16.010305</td>\n",
       "      <td>0.440100</td>\n",
       "      <td>5.817839</td>\n",
       "      <td>2.526102</td>\n",
       "      <td>20.734282</td>\n",
       "      <td>0.488176</td>\n",
       "    </tr>\n",
       "    <tr>\n",
       "      <th>min</th>\n",
       "      <td>55.000000</td>\n",
       "      <td>148.000000</td>\n",
       "      <td>0.000000</td>\n",
       "      <td>15.000000</td>\n",
       "      <td>53.000000</td>\n",
       "      <td>87.000000</td>\n",
       "      <td>0.000000</td>\n",
       "    </tr>\n",
       "    <tr>\n",
       "      <th>25%</th>\n",
       "      <td>108.000000</td>\n",
       "      <td>272.000000</td>\n",
       "      <td>0.000000</td>\n",
       "      <td>23.000000</td>\n",
       "      <td>62.000000</td>\n",
       "      <td>114.250000</td>\n",
       "      <td>0.000000</td>\n",
       "    </tr>\n",
       "    <tr>\n",
       "      <th>50%</th>\n",
       "      <td>120.000000</td>\n",
       "      <td>280.000000</td>\n",
       "      <td>0.000000</td>\n",
       "      <td>26.000000</td>\n",
       "      <td>64.000000</td>\n",
       "      <td>125.000000</td>\n",
       "      <td>0.000000</td>\n",
       "    </tr>\n",
       "    <tr>\n",
       "      <th>75%</th>\n",
       "      <td>131.000000</td>\n",
       "      <td>288.000000</td>\n",
       "      <td>1.000000</td>\n",
       "      <td>31.000000</td>\n",
       "      <td>66.000000</td>\n",
       "      <td>139.000000</td>\n",
       "      <td>1.000000</td>\n",
       "    </tr>\n",
       "    <tr>\n",
       "      <th>max</th>\n",
       "      <td>176.000000</td>\n",
       "      <td>353.000000</td>\n",
       "      <td>1.000000</td>\n",
       "      <td>45.000000</td>\n",
       "      <td>72.000000</td>\n",
       "      <td>250.000000</td>\n",
       "      <td>1.000000</td>\n",
       "    </tr>\n",
       "  </tbody>\n",
       "</table>\n",
       "</div>"
      ],
      "text/plain": [
       "               bwt    gestation       parity          age       height  \\\n",
       "count  1174.000000  1174.000000  1174.000000  1174.000000  1174.000000   \n",
       "mean    119.462521   279.101363     0.262351    27.228279    64.049404   \n",
       "std      18.328671    16.010305     0.440100     5.817839     2.526102   \n",
       "min      55.000000   148.000000     0.000000    15.000000    53.000000   \n",
       "25%     108.000000   272.000000     0.000000    23.000000    62.000000   \n",
       "50%     120.000000   280.000000     0.000000    26.000000    64.000000   \n",
       "75%     131.000000   288.000000     1.000000    31.000000    66.000000   \n",
       "max     176.000000   353.000000     1.000000    45.000000    72.000000   \n",
       "\n",
       "            weight        smoke  \n",
       "count  1174.000000  1174.000000  \n",
       "mean    128.478705     0.390971  \n",
       "std      20.734282     0.488176  \n",
       "min      87.000000     0.000000  \n",
       "25%     114.250000     0.000000  \n",
       "50%     125.000000     0.000000  \n",
       "75%     139.000000     1.000000  \n",
       "max     250.000000     1.000000  "
      ]
     },
     "execution_count": 203,
     "metadata": {},
     "output_type": "execute_result"
    }
   ],
   "source": [
    "newborn.describe()"
   ]
  },
  {
   "cell_type": "code",
   "execution_count": 204,
   "metadata": {
    "colab": {},
    "colab_type": "code",
    "id": "Ez8qPLojjlFf"
   },
   "outputs": [
    {
     "data": {
      "image/png": "[encoded data removed]",
      "text/plain": [
       "<Figure size 432x288 with 1 Axes>"
      ]
     },
     "metadata": {},
     "output_type": "display_data"
    }
   ],
   "source": [
    "newborn['bwt'].plot.hist();  # why do we need a semicolon at the end?"
   ]
  },
  {
   "cell_type": "code",
   "execution_count": 205,
   "metadata": {},
   "outputs": [
    {
     "data": {
      "text/plain": [
       "0.2579534937842991"
      ]
     },
     "execution_count": 205,
     "metadata": {},
     "output_type": "execute_result"
    }
   ],
   "source": [
    "# How does linear regression handle it?\n",
    "# Let's drop NAs and limit to numeric values\n",
    "newborn = newborn._get_numeric_data().dropna()\n",
    "X = newborn.drop('bwt', axis = 'columns')\n",
    "y = newborn['bwt']\n",
    "\n",
    "linear_reg = LinearRegression().fit(X, y)\n",
    "linear_reg.score(X, y)"
   ]
  },
  {
   "cell_type": "code",
   "execution_count": 206,
   "metadata": {},
   "outputs": [
    {
     "data": {
      "text/plain": [
       "0.05664395229982964"
      ]
     },
     "execution_count": 206,
     "metadata": {},
     "output_type": "execute_result"
    }
   ],
   "source": [
    "scipy.stats.percentileofscore(newborn.bwt, 90)/100"
   ]
  },
  {
   "cell_type": "code",
   "execution_count": 207,
   "metadata": {},
   "outputs": [
    {
     "data": {
      "text/html": [
       "<div>\n",
       "<style scoped>\n",
       "    .dataframe tbody tr th:only-of-type {\n",
       "        vertical-align: middle;\n",
       "    }\n",
       "\n",
       "    .dataframe tbody tr th {\n",
       "        vertical-align: top;\n",
       "    }\n",
       "\n",
       "    .dataframe thead th {\n",
       "        text-align: right;\n",
       "    }\n",
       "</style>\n",
       "<table border=\"1\" class=\"dataframe\">\n",
       "  <thead>\n",
       "    <tr style=\"text-align: right;\">\n",
       "      <th></th>\n",
       "      <th>bwt</th>\n",
       "      <th>gestation</th>\n",
       "      <th>parity</th>\n",
       "      <th>age</th>\n",
       "      <th>height</th>\n",
       "      <th>weight</th>\n",
       "      <th>smoke</th>\n",
       "    </tr>\n",
       "  </thead>\n",
       "  <tbody>\n",
       "    <tr>\n",
       "      <th>0</th>\n",
       "      <td>120</td>\n",
       "      <td>284</td>\n",
       "      <td>0</td>\n",
       "      <td>27</td>\n",
       "      <td>62</td>\n",
       "      <td>100</td>\n",
       "      <td>0</td>\n",
       "    </tr>\n",
       "    <tr>\n",
       "      <th>1</th>\n",
       "      <td>113</td>\n",
       "      <td>282</td>\n",
       "      <td>0</td>\n",
       "      <td>33</td>\n",
       "      <td>64</td>\n",
       "      <td>135</td>\n",
       "      <td>0</td>\n",
       "    </tr>\n",
       "    <tr>\n",
       "      <th>2</th>\n",
       "      <td>128</td>\n",
       "      <td>279</td>\n",
       "      <td>0</td>\n",
       "      <td>28</td>\n",
       "      <td>64</td>\n",
       "      <td>115</td>\n",
       "      <td>1</td>\n",
       "    </tr>\n",
       "    <tr>\n",
       "      <th>3</th>\n",
       "      <td>108</td>\n",
       "      <td>282</td>\n",
       "      <td>0</td>\n",
       "      <td>23</td>\n",
       "      <td>67</td>\n",
       "      <td>125</td>\n",
       "      <td>1</td>\n",
       "    </tr>\n",
       "    <tr>\n",
       "      <th>4</th>\n",
       "      <td>136</td>\n",
       "      <td>286</td>\n",
       "      <td>0</td>\n",
       "      <td>25</td>\n",
       "      <td>62</td>\n",
       "      <td>93</td>\n",
       "      <td>0</td>\n",
       "    </tr>\n",
       "  </tbody>\n",
       "</table>\n",
       "</div>"
      ],
      "text/plain": [
       "   bwt  gestation  parity  age  height  weight  smoke\n",
       "0  120        284       0   27      62     100      0\n",
       "1  113        282       0   33      64     135      0\n",
       "2  128        279       0   28      64     115      1\n",
       "3  108        282       0   23      67     125      1\n",
       "4  136        286       0   25      62      93      0"
      ]
     },
     "execution_count": 207,
     "metadata": {},
     "output_type": "execute_result"
    }
   ],
   "source": [
    "df = newborn.copy()\n",
    "df.head()"
   ]
  },
  {
   "cell_type": "code",
   "execution_count": 208,
   "metadata": {},
   "outputs": [
    {
     "data": {
      "text/html": [
       "<div>\n",
       "<style scoped>\n",
       "    .dataframe tbody tr th:only-of-type {\n",
       "        vertical-align: middle;\n",
       "    }\n",
       "\n",
       "    .dataframe tbody tr th {\n",
       "        vertical-align: top;\n",
       "    }\n",
       "\n",
       "    .dataframe thead th {\n",
       "        text-align: right;\n",
       "    }\n",
       "</style>\n",
       "<table border=\"1\" class=\"dataframe\">\n",
       "  <thead>\n",
       "    <tr style=\"text-align: right;\">\n",
       "      <th></th>\n",
       "      <th>bwt</th>\n",
       "      <th>gestation</th>\n",
       "      <th>parity</th>\n",
       "      <th>age</th>\n",
       "      <th>height</th>\n",
       "      <th>weight</th>\n",
       "      <th>smoke</th>\n",
       "      <th>less_than_250</th>\n",
       "    </tr>\n",
       "  </thead>\n",
       "  <tbody>\n",
       "    <tr>\n",
       "      <th>5</th>\n",
       "      <td>138</td>\n",
       "      <td>244</td>\n",
       "      <td>0</td>\n",
       "      <td>33</td>\n",
       "      <td>62</td>\n",
       "      <td>178</td>\n",
       "      <td>0</td>\n",
       "      <td>1</td>\n",
       "    </tr>\n",
       "    <tr>\n",
       "      <th>6</th>\n",
       "      <td>132</td>\n",
       "      <td>245</td>\n",
       "      <td>0</td>\n",
       "      <td>23</td>\n",
       "      <td>65</td>\n",
       "      <td>140</td>\n",
       "      <td>0</td>\n",
       "      <td>1</td>\n",
       "    </tr>\n",
       "    <tr>\n",
       "      <th>41</th>\n",
       "      <td>87</td>\n",
       "      <td>248</td>\n",
       "      <td>0</td>\n",
       "      <td>37</td>\n",
       "      <td>65</td>\n",
       "      <td>130</td>\n",
       "      <td>1</td>\n",
       "      <td>1</td>\n",
       "    </tr>\n",
       "    <tr>\n",
       "      <th>56</th>\n",
       "      <td>75</td>\n",
       "      <td>232</td>\n",
       "      <td>0</td>\n",
       "      <td>33</td>\n",
       "      <td>61</td>\n",
       "      <td>110</td>\n",
       "      <td>0</td>\n",
       "      <td>1</td>\n",
       "    </tr>\n",
       "    <tr>\n",
       "      <th>60</th>\n",
       "      <td>101</td>\n",
       "      <td>245</td>\n",
       "      <td>0</td>\n",
       "      <td>23</td>\n",
       "      <td>63</td>\n",
       "      <td>130</td>\n",
       "      <td>1</td>\n",
       "      <td>1</td>\n",
       "    </tr>\n",
       "  </tbody>\n",
       "</table>\n",
       "</div>"
      ],
      "text/plain": [
       "    bwt  gestation  parity  age  height  weight  smoke  less_than_250\n",
       "5   138        244       0   33      62     178      0              1\n",
       "6   132        245       0   23      65     140      0              1\n",
       "41   87        248       0   37      65     130      1              1\n",
       "56   75        232       0   33      61     110      0              1\n",
       "60  101        245       0   23      63     130      1              1"
      ]
     },
     "execution_count": 208,
     "metadata": {},
     "output_type": "execute_result"
    }
   ],
   "source": [
    "df['less_than_250'] = df['gestation'].apply(lambda g: 1 if g < 250 else 0)\n",
    "df[df['less_than_250'] == 1].head()"
   ]
  },
  {
   "cell_type": "code",
   "execution_count": 209,
   "metadata": {},
   "outputs": [
    {
     "data": {
      "text/html": [
       "<div>\n",
       "<style scoped>\n",
       "    .dataframe tbody tr th:only-of-type {\n",
       "        vertical-align: middle;\n",
       "    }\n",
       "\n",
       "    .dataframe tbody tr th {\n",
       "        vertical-align: top;\n",
       "    }\n",
       "\n",
       "    .dataframe thead th {\n",
       "        text-align: right;\n",
       "    }\n",
       "</style>\n",
       "<table border=\"1\" class=\"dataframe\">\n",
       "  <thead>\n",
       "    <tr style=\"text-align: right;\">\n",
       "      <th></th>\n",
       "      <th>bwt</th>\n",
       "      <th>gestation</th>\n",
       "      <th>parity</th>\n",
       "      <th>age</th>\n",
       "      <th>height</th>\n",
       "      <th>weight</th>\n",
       "      <th>smoke</th>\n",
       "      <th>less_than_250</th>\n",
       "      <th>less_than_90</th>\n",
       "    </tr>\n",
       "  </thead>\n",
       "  <tbody>\n",
       "    <tr>\n",
       "      <th>0</th>\n",
       "      <td>120</td>\n",
       "      <td>284</td>\n",
       "      <td>0</td>\n",
       "      <td>27</td>\n",
       "      <td>62</td>\n",
       "      <td>100</td>\n",
       "      <td>0</td>\n",
       "      <td>0</td>\n",
       "      <td>0</td>\n",
       "    </tr>\n",
       "    <tr>\n",
       "      <th>1</th>\n",
       "      <td>113</td>\n",
       "      <td>282</td>\n",
       "      <td>0</td>\n",
       "      <td>33</td>\n",
       "      <td>64</td>\n",
       "      <td>135</td>\n",
       "      <td>0</td>\n",
       "      <td>0</td>\n",
       "      <td>0</td>\n",
       "    </tr>\n",
       "    <tr>\n",
       "      <th>2</th>\n",
       "      <td>128</td>\n",
       "      <td>279</td>\n",
       "      <td>0</td>\n",
       "      <td>28</td>\n",
       "      <td>64</td>\n",
       "      <td>115</td>\n",
       "      <td>1</td>\n",
       "      <td>0</td>\n",
       "      <td>0</td>\n",
       "    </tr>\n",
       "    <tr>\n",
       "      <th>3</th>\n",
       "      <td>108</td>\n",
       "      <td>282</td>\n",
       "      <td>0</td>\n",
       "      <td>23</td>\n",
       "      <td>67</td>\n",
       "      <td>125</td>\n",
       "      <td>1</td>\n",
       "      <td>0</td>\n",
       "      <td>0</td>\n",
       "    </tr>\n",
       "    <tr>\n",
       "      <th>4</th>\n",
       "      <td>136</td>\n",
       "      <td>286</td>\n",
       "      <td>0</td>\n",
       "      <td>25</td>\n",
       "      <td>62</td>\n",
       "      <td>93</td>\n",
       "      <td>0</td>\n",
       "      <td>0</td>\n",
       "      <td>0</td>\n",
       "    </tr>\n",
       "  </tbody>\n",
       "</table>\n",
       "</div>"
      ],
      "text/plain": [
       "   bwt  gestation  parity  age  height  weight  smoke  less_than_250  \\\n",
       "0  120        284       0   27      62     100      0              0   \n",
       "1  113        282       0   33      64     135      0              0   \n",
       "2  128        279       0   28      64     115      1              0   \n",
       "3  108        282       0   23      67     125      1              0   \n",
       "4  136        286       0   25      62      93      0              0   \n",
       "\n",
       "   less_than_90  \n",
       "0             0  \n",
       "1             0  \n",
       "2             0  \n",
       "3             0  \n",
       "4             0  "
      ]
     },
     "execution_count": 209,
     "metadata": {},
     "output_type": "execute_result"
    }
   ],
   "source": [
    "df['less_than_90'] = df['bwt'].apply(lambda b: 1 if b < 90 else 0)\n",
    "df[df['less_than_90'] == 1].head()\n",
    "df.head()"
   ]
  },
  {
   "cell_type": "code",
   "execution_count": 230,
   "metadata": {},
   "outputs": [
    {
     "data": {
      "text/html": [
       "<div>\n",
       "<style scoped>\n",
       "    .dataframe tbody tr th:only-of-type {\n",
       "        vertical-align: middle;\n",
       "    }\n",
       "\n",
       "    .dataframe tbody tr th {\n",
       "        vertical-align: top;\n",
       "    }\n",
       "\n",
       "    .dataframe thead th {\n",
       "        text-align: right;\n",
       "    }\n",
       "</style>\n",
       "<table border=\"1\" class=\"dataframe\">\n",
       "  <thead>\n",
       "    <tr style=\"text-align: right;\">\n",
       "      <th></th>\n",
       "      <th></th>\n",
       "      <th>less_than_90</th>\n",
       "    </tr>\n",
       "    <tr>\n",
       "      <th>age</th>\n",
       "      <th>gestation</th>\n",
       "      <th></th>\n",
       "    </tr>\n",
       "  </thead>\n",
       "  <tbody>\n",
       "    <tr>\n",
       "      <th>22</th>\n",
       "      <th>286</th>\n",
       "      <td>7</td>\n",
       "    </tr>\n",
       "    <tr>\n",
       "      <th>23</th>\n",
       "      <th>276</th>\n",
       "      <td>7</td>\n",
       "    </tr>\n",
       "    <tr>\n",
       "      <th>27</th>\n",
       "      <th>278</th>\n",
       "      <td>7</td>\n",
       "    </tr>\n",
       "    <tr>\n",
       "      <th>28</th>\n",
       "      <th>288</th>\n",
       "      <td>7</td>\n",
       "    </tr>\n",
       "    <tr>\n",
       "      <th>26</th>\n",
       "      <th>290</th>\n",
       "      <td>6</td>\n",
       "    </tr>\n",
       "  </tbody>\n",
       "</table>\n",
       "</div>"
      ],
      "text/plain": [
       "               less_than_90\n",
       "age gestation              \n",
       "22  286                   7\n",
       "23  276                   7\n",
       "27  278                   7\n",
       "28  288                   7\n",
       "26  290                   6"
      ]
     },
     "execution_count": 230,
     "metadata": {},
     "output_type": "execute_result"
    }
   ],
   "source": [
    "df_group = df.groupby([\"age\", 'gestation']).count().sort_values(by = ['less_than_90'], ascending = False)\n",
    "df_group = pd.DataFrame(df_group, columns = ['less_than_90'])\n",
    "df_group.head()"
   ]
  },
  {
   "cell_type": "code",
   "execution_count": 211,
   "metadata": {},
   "outputs": [
    {
     "data": {
      "text/plain": [
       "Index(['bwt', 'gestation', 'parity', 'age', 'height', 'weight', 'smoke',\n",
       "       'less_than_250', 'less_than_90'],\n",
       "      dtype='object')"
      ]
     },
     "execution_count": 211,
     "metadata": {},
     "output_type": "execute_result"
    }
   ],
   "source": [
    "df.columns"
   ]
  },
  {
   "cell_type": "code",
   "execution_count": 213,
   "metadata": {},
   "outputs": [
    {
     "name": "stdout",
     "output_type": "stream",
     "text": [
      "bwt ~ gestation + parity + age + height + weight + smoke + less_than_250 + less_than_90\n"
     ]
    },
    {
     "name": "stderr",
     "output_type": "stream",
     "text": [
      "/Users/danielleromanoff/.local/lib/python3.6/site-packages/scipy/stats/stats.py:1713: FutureWarning: Using a non-tuple sequence for multidimensional indexing is deprecated; use `arr[tuple(seq)]` instead of `arr[seq]`. In the future this will be interpreted as an array index, `arr[np.array(seq)]`, which will result either in an error or a different result.\n",
      "  return np.add.reduce(sorted[indexer] * weights, axis=axis) / sumval\n"
     ]
    },
    {
     "data": {
      "text/html": [
       "<table class=\"simpletable\">\n",
       "<caption>QuantReg Regression Results</caption>\n",
       "<tr>\n",
       "  <th>Dep. Variable:</th>        <td>bwt</td>       <th>  Pseudo R-squared:  </th> <td>  0.3812</td>\n",
       "</tr>\n",
       "<tr>\n",
       "  <th>Model:</th>             <td>QuantReg</td>     <th>  Bandwidth:         </th> <td>   5.686</td>\n",
       "</tr>\n",
       "<tr>\n",
       "  <th>Method:</th>          <td>Least Squares</td>  <th>  Sparsity:          </th> <td>   82.33</td>\n",
       "</tr>\n",
       "<tr>\n",
       "  <th>Date:</th>          <td>Wed, 23 Jan 2019</td> <th>  No. Observations:  </th>  <td>  1174</td> \n",
       "</tr>\n",
       "<tr>\n",
       "  <th>Time:</th>              <td>18:24:17</td>     <th>  Df Residuals:      </th>  <td>  1165</td> \n",
       "</tr>\n",
       "<tr>\n",
       "  <th> </th>                      <td> </td>        <th>  Df Model:          </th>  <td>     8</td> \n",
       "</tr>\n",
       "</table>\n",
       "<table class=\"simpletable\">\n",
       "<tr>\n",
       "        <td></td>           <th>coef</th>     <th>std err</th>      <th>t</th>      <th>P>|t|</th>  <th>[0.025</th>    <th>0.975]</th>  \n",
       "</tr>\n",
       "<tr>\n",
       "  <th>Intercept</th>     <td>   15.2190</td> <td>   21.893</td> <td>    0.695</td> <td> 0.487</td> <td>  -27.734</td> <td>   58.172</td>\n",
       "</tr>\n",
       "<tr>\n",
       "  <th>gestation</th>     <td>    0.2036</td> <td>    0.059</td> <td>    3.448</td> <td> 0.001</td> <td>    0.088</td> <td>    0.319</td>\n",
       "</tr>\n",
       "<tr>\n",
       "  <th>parity</th>        <td>   -1.7515</td> <td>    1.440</td> <td>   -1.216</td> <td> 0.224</td> <td>   -4.578</td> <td>    1.075</td>\n",
       "</tr>\n",
       "<tr>\n",
       "  <th>age</th>           <td>   -0.0113</td> <td>    0.108</td> <td>   -0.105</td> <td> 0.917</td> <td>   -0.222</td> <td>    0.200</td>\n",
       "</tr>\n",
       "<tr>\n",
       "  <th>height</th>        <td>    0.4470</td> <td>    0.285</td> <td>    1.570</td> <td> 0.117</td> <td>   -0.112</td> <td>    1.006</td>\n",
       "</tr>\n",
       "<tr>\n",
       "  <th>weight</th>        <td>    0.0198</td> <td>    0.031</td> <td>    0.628</td> <td> 0.530</td> <td>   -0.042</td> <td>    0.082</td>\n",
       "</tr>\n",
       "<tr>\n",
       "  <th>smoke</th>         <td>   -6.1500</td> <td>    1.194</td> <td>   -5.152</td> <td> 0.000</td> <td>   -8.492</td> <td>   -3.808</td>\n",
       "</tr>\n",
       "<tr>\n",
       "  <th>less_than_250</th> <td>   -4.3503</td> <td>    3.989</td> <td>   -1.090</td> <td> 0.276</td> <td>  -12.177</td> <td>    3.477</td>\n",
       "</tr>\n",
       "<tr>\n",
       "  <th>less_than_90</th>  <td>  -27.9013</td> <td>    3.064</td> <td>   -9.107</td> <td> 0.000</td> <td>  -33.913</td> <td>  -21.890</td>\n",
       "</tr>\n",
       "</table><br/><br/>The condition number is large, 1.06e+04. This might indicate that there are<br/>strong multicollinearity or other numerical problems."
      ],
      "text/plain": [
       "<class 'statsmodels.iolib.summary.Summary'>\n",
       "\"\"\"\n",
       "                         QuantReg Regression Results                          \n",
       "==============================================================================\n",
       "Dep. Variable:                    bwt   Pseudo R-squared:               0.3812\n",
       "Model:                       QuantReg   Bandwidth:                       5.686\n",
       "Method:                 Least Squares   Sparsity:                        82.33\n",
       "Date:                Wed, 23 Jan 2019   No. Observations:                 1174\n",
       "Time:                        18:24:17   Df Residuals:                     1165\n",
       "                                        Df Model:                            8\n",
       "=================================================================================\n",
       "                    coef    std err          t      P>|t|      [0.025      0.975]\n",
       "---------------------------------------------------------------------------------\n",
       "Intercept        15.2190     21.893      0.695      0.487     -27.734      58.172\n",
       "gestation         0.2036      0.059      3.448      0.001       0.088       0.319\n",
       "parity           -1.7515      1.440     -1.216      0.224      -4.578       1.075\n",
       "age              -0.0113      0.108     -0.105      0.917      -0.222       0.200\n",
       "height            0.4470      0.285      1.570      0.117      -0.112       1.006\n",
       "weight            0.0198      0.031      0.628      0.530      -0.042       0.082\n",
       "smoke            -6.1500      1.194     -5.152      0.000      -8.492      -3.808\n",
       "less_than_250    -4.3503      3.989     -1.090      0.276     -12.177       3.477\n",
       "less_than_90    -27.9013      3.064     -9.107      0.000     -33.913     -21.890\n",
       "=================================================================================\n",
       "\n",
       "The condition number is large, 1.06e+04. This might indicate that there are\n",
       "strong multicollinearity or other numerical problems.\n",
       "\"\"\""
      ]
     },
     "execution_count": 213,
     "metadata": {},
     "output_type": "execute_result"
    }
   ],
   "source": [
    "# quantile\n",
    "import statsmodels.formula.api as smf\n",
    "\n",
    "# using all columns\n",
    "quant_formula = 'bwt ~ ' + ' + '.join(df.drop('bwt', axis='columns').columns) \n",
    "print(quant_formula)\n",
    "\n",
    "quant_mod = smf.quantreg(quant_formula, data = df)\n",
    "quant_reg = quant_mod.fit(q = 0.05664)\n",
    "quant_reg.summary()"
   ]
  },
  {
   "cell_type": "code",
   "execution_count": 218,
   "metadata": {},
   "outputs": [
    {
     "data": {
      "text/plain": [
       "<seaborn.axisgrid.PairGrid at 0x1263ad940>"
      ]
     },
     "execution_count": 218,
     "metadata": {},
     "output_type": "execute_result"
    },
    {
     "data": {
      "image/png": "[encoded data removed]",
      "text/plain": [
       "<Figure size 1800x180 with 10 Axes>"
      ]
     },
     "metadata": {},
     "output_type": "display_data"
    }
   ],
   "source": [
    "sns.set(style = \"ticks\", color_codes = True)\n",
    "\n",
    "x_columns = df.columns.drop('bwt')\n",
    "\n",
    "# Only plot the scatterplot of x variables with our y variable\n",
    "sns.pairplot(data = df, y_vars = ['bwt'], x_vars = x_columns)"
   ]
  },
  {
   "cell_type": "code",
   "execution_count": 231,
   "metadata": {},
   "outputs": [
    {
     "name": "stdout",
     "output_type": "stream",
     "text": [
      "(0.01, 0.2363366156871025)\n"
     ]
    },
    {
     "name": "stderr",
     "output_type": "stream",
     "text": [
      "/Users/danielleromanoff/anaconda3/lib/python3.6/site-packages/statsmodels/regression/quantile_regression.py:193: IterationLimitWarning: Maximum number of iterations (1000) reached.\n",
      "  \") reached.\", IterationLimitWarning)\n"
     ]
    },
    {
     "name": "stdout",
     "output_type": "stream",
     "text": [
      "(0.02, 0.2255756436054971)\n",
      "(0.03, 0.21746067018133242)\n",
      "(0.04, 0.20862656441625638)\n",
      "(0.05, 0.2020440296023065)\n"
     ]
    },
    {
     "name": "stderr",
     "output_type": "stream",
     "text": [
      "/Users/danielleromanoff/anaconda3/lib/python3.6/site-packages/statsmodels/regression/quantile_regression.py:193: IterationLimitWarning: Maximum number of iterations (1000) reached.\n",
      "  \") reached.\", IterationLimitWarning)\n"
     ]
    }
   ],
   "source": [
    "quant_formula = 'bwt ~ gestation + parity + age + height + weight + smoke'\n",
    "quant_mod = smf.quantreg(quant_formula, data = df)\n",
    "for quantile in range(1, 6):\n",
    "  quantile /= 100\n",
    "  quant_reg = quant_mod.fit(q = quantile)\n",
    "  print((quantile, quant_reg.prsquared))"
   ]
  },
  {
   "cell_type": "code",
   "execution_count": 227,
   "metadata": {},
   "outputs": [
    {
     "name": "stdout",
     "output_type": "stream",
     "text": [
      "(0.01, 0.012449460446133265)\n",
      "(0.02, 0.019604591771893998)\n",
      "(0.03, 0.013194280472373698)\n",
      "(0.04, 0.004936457197312283)\n",
      "(0.05, 0.004352935294444804)\n"
     ]
    }
   ],
   "source": [
    "quant_formula = 'bwt ~ age'\n",
    "quant_mod = smf.quantreg(quant_formula, data = df)\n",
    "for quantile in range(1, 6):\n",
    "  quantile /= 100\n",
    "  quant_reg = quant_mod.fit(q = quantile)\n",
    "  print((quantile, quant_reg.prsquared))"
   ]
  },
  {
   "cell_type": "code",
   "execution_count": 223,
   "metadata": {},
   "outputs": [
    {
     "name": "stdout",
     "output_type": "stream",
     "text": [
      "(0.01, 0.005995191926512433)\n",
      "(0.02, 0.021012696221728744)\n",
      "(0.03, 0.01954585785374663)\n",
      "(0.04, 0.023113581001035555)\n",
      "(0.05, 0.03220893996932961)\n"
     ]
    }
   ],
   "source": [
    "quant_formula = 'bwt ~ smoke'\n",
    "quant_mod = smf.quantreg(quant_formula, data = df)\n",
    "for quantile in range(1, 6):\n",
    "  quantile /= 100\n",
    "  quant_reg = quant_mod.fit(q = quantile)\n",
    "  print((quantile, quant_reg.prsquared))"
   ]
  },
  {
   "cell_type": "code",
   "execution_count": 228,
   "metadata": {},
   "outputs": [
    {
     "name": "stdout",
     "output_type": "stream",
     "text": [
      "(0.01, 0.19746082814676402)\n",
      "(0.02, 0.1959170422028399)\n",
      "(0.03, 0.1821683704066447)\n",
      "(0.04, 0.17029296740184174)\n",
      "(0.05, 0.1648517842569196)\n"
     ]
    }
   ],
   "source": [
    "quant_formula = 'bwt ~ gestation'\n",
    "quant_mod = smf.quantreg(quant_formula, data = df)\n",
    "for quantile in range(1, 6):\n",
    "  quantile /= 100\n",
    "  quant_reg = quant_mod.fit(q = quantile)\n",
    "  print((quantile, quant_reg.prsquared))"
   ]
  },
  {
   "cell_type": "code",
   "execution_count": 232,
   "metadata": {},
   "outputs": [
    {
     "name": "stdout",
     "output_type": "stream",
     "text": [
      "(0.01, 0.012259627690809127)\n",
      "(0.02, 0.0029102463294461423)\n",
      "(0.03, 1.2444758603735728e-05)\n",
      "(0.04, 0.00033756680893970437)\n",
      "(0.05, 0.0010430336548706842)\n"
     ]
    }
   ],
   "source": [
    "quant_formula = 'bwt ~ parity'\n",
    "quant_mod = smf.quantreg(quant_formula, data = df)\n",
    "for quantile in range(1, 6):\n",
    "  quantile /= 100\n",
    "  quant_reg = quant_mod.fit(q = quantile)\n",
    "  print((quantile, quant_reg.prsquared))"
   ]
  },
  {
   "cell_type": "code",
   "execution_count": null,
   "metadata": {},
   "outputs": [],
   "source": []
  },
  {
   "cell_type": "markdown",
   "metadata": {},
   "source": [
    "What characteristics of a mother indicate the highest likelihood of an at-risk (low weight) baby?\n",
    "    - Smoking appears to be a significant characteristic contributing to a low weight baby.\n",
    "    - Gestation is also a significant factor leading to low birth weight.\n",
    "What can expectant mothers be told to help mitigate this risk?\n",
    "    - Smoking is bad for your health regardless of pregnancy. However, smoking while pregnant should be \n",
    "    avoided.\n",
    "    - Gestation is not generally something a woman can control. It is possible for certain activities, like\n",
    "    over doing things later in pregnancy, can contribute to early labor. Risky behavior can also lead to\n",
    "    early labor. The earlier the labor or shorter the gestation, the more likely it is the newborn will be\n",
    "    smaller and/or have issues"
   ]
  },
  {
   "cell_type": "code",
   "execution_count": null,
   "metadata": {},
   "outputs": [],
   "source": []
  },
  {
   "cell_type": "markdown",
   "metadata": {
    "colab_type": "text",
    "id": "XY9JGAnJisdB"
   },
   "source": [
    "## Resources and stretch goals"
   ]
  },
  {
   "cell_type": "markdown",
   "metadata": {
    "colab_type": "text",
    "id": "inFWXSpqmND5"
   },
   "source": [
    "Resources:\n",
    "- [statsmodels QuantReg example](http://www.statsmodels.org/dev/examples/notebooks/generated/quantile_regression.html)\n",
    "- [How Shopify used Quantile Regression in modeling risk](https://medium.com/data-shopify/how-shopify-capital-uses-quantile-regression-to-help-merchants-succeed-10ee1b36b17d)\n",
    "\n",
    "Stretch goals:\n",
    "- Find a dataset where you think quantile regression may be appropriate, and try both it and linear regression - compare/contrast their strengths/weaknesses, and write a summary for which you think is better for the situation and why\n",
    "- Check out [deep quantile regression](https://www.kdnuggets.com/2018/07/deep-quantile-regression.html), an approach that uses a custom quantile loss function and Keras to train a quantile model"
   ]
  }
 ],
 "metadata": {
  "colab": {
   "name": "LS_DS_233_Quantile_Regression.ipynb",
   "provenance": [],
   "version": "0.3.2"
  },
  "kernelspec": {
   "display_name": "Python 3",
   "language": "python",
   "name": "python3"
  },
  "language_info": {
   "codemirror_mode": {
    "name": "ipython",
    "version": 3
   },
   "file_extension": ".py",
   "mimetype": "text/x-python",
   "name": "python",
   "nbconvert_exporter": "python",
   "pygments_lexer": "ipython3",
   "version": "3.6.6"
  }
 },
 "nbformat": 4,
 "nbformat_minor": 2
}
